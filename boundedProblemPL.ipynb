{
 "cells": [
  {
   "cell_type": "markdown",
   "metadata": {},
   "source": [
    "# John's Diet Problem\n",
    "\n",
    "John's diet requires that all the food he consumes comes from one of four basic \"food groups\" (cake, ice cream, soda, and cheesecake) (pls don't try this at home :P). \n",
    "\n",
    "Currently, the following four foods are available: chocolate cake, vanilla ice cream, cola, and pineapple cheesecake. \n",
    "\n",
    "Each slice of chocolate cake costs €0.50, each scoop of vanilla ice cream costs €0.20, each bottle of cola costs €0.30, and each slice of pineapple cheesecake costs €0.80. \n",
    "\n",
    "Each day, John needs to consume at least 500 calories, 6 grams of chocolate, 10 grams of sugar, and 8 grams of fat. \n",
    "\n",
    "The following table shows the nutrient values for each type of food.  \n",
    "\n",
    "##### Nutrient Values for Each Type of Food\n",
    "\n",
    "| Food Type                  | Calories | Chocolate (grams) | Sugar (grams) | Fat (grams) |\n",
    "|----------------------------|----------|-------------------|---------------|-------------|\n",
    "| Chocolate Cake (1 slice)   | 400      | 3                 | 2             | 2           |\n",
    "| Vanilla Ice Cream (1 scoop) | 200      | 2                 | 2             | 4           |\n",
    "| Cola (1 bottle)            | 150      | 0                 | 4             | 1           |\n",
    "| Pineapple Cheesecake (1 slice) | 500  | 0                 | 4             | 5           |\n"
   ]
  },
  {
   "cell_type": "markdown",
   "metadata": {},
   "source": [
    "Lets formulate a linear programming model that can be used to satisfy John's daily dietary requirements at the minimum cost."
   ]
  },
  {
   "cell_type": "markdown",
   "metadata": {},
   "source": [
    "### Linear Programming Model\n",
    "\n",
    "**Objective:** Minimize the total cost.\n",
    "\n",
    "**Decision Variables:**\n",
    "- \\( x_1 \\): Number of slices of chocolate cake\n",
    "- \\( x_2 \\): Number of scoops of vanilla ice cream\n",
    "- \\( x_3 \\): Number of bottles of cola\n",
    "- \\( x_4 \\): Number of slices of pineapple cheesecake\n",
    "\n",
    "**Objective Function:**\n",
    "\n",
    "$$ \\text{Minimize} \\ Z = 0.50x_1 + 0.20x_2 + 0.30x_3 + 0.80x_4 $$\n",
    "\n",
    "**Constraints:**\n",
    "\n",
    "1. Caloric requirement:\n",
    "$$ 400x_1 + 200x_2 + 150x_3 + 500x_4 \\geq 500 $$\n",
    "\n",
    "2. Chocolate requirement:\n",
    "$$ 3x_1 + 2x_2 \\geq 6 $$\n",
    "\n",
    "3. Sugar requirement:\n",
    "$$ 2x_1 + 2x_2 + 4x_3 + 4x_4 \\geq 10 $$\n",
    "\n",
    "4. Fat requirement:\n",
    "$$ 2x_1 + 4x_2 + 1x_3 + 5x_4 \\geq 8 $$\n",
    "\n",
    "5. Non-negativity constraints:\n",
    "$$ x_1, x_2, x_3, x_4 \\geq 0 $$\n"
   ]
  },
  {
   "cell_type": "markdown",
   "metadata": {},
   "source": [
    "##### 1. Initialize Model"
   ]
  },
  {
   "cell_type": "code",
   "execution_count": 10,
   "metadata": {},
   "outputs": [],
   "source": [
    "import matplotlib as plt\n",
    "import numpy as np\n",
    "from pulp import *"
   ]
  },
  {
   "cell_type": "code",
   "execution_count": 11,
   "metadata": {},
   "outputs": [
    {
     "name": "stderr",
     "output_type": "stream",
     "text": [
      "c:\\Python312\\Lib\\site-packages\\pulp\\pulp.py:1298: UserWarning: Spaces are not permitted in the name. Converted to '_'\n",
      "  warnings.warn(\"Spaces are not permitted in the name. Converted to '_'\")\n"
     ]
    }
   ],
   "source": [
    "prob = LpProblem(\"John's Diet Problem\", LpMinimize) "
   ]
  },
  {
   "cell_type": "markdown",
   "metadata": {},
   "source": [
    "##### 2. Define the decision variables"
   ]
  },
  {
   "cell_type": "code",
   "execution_count": 12,
   "metadata": {},
   "outputs": [],
   "source": [
    "x1 = LpVariable(\"x1\", lowBound=0) # x1 >= 0\n",
    "x2 = LpVariable(\"x2\", lowBound=0) # x2 >= 0\n",
    "x3 = LpVariable(\"x3\", lowBound=0) # x3 >= 0\n",
    "x4 = LpVariable(\"x4\", lowBound=0) # x4 >= 0"
   ]
  },
  {
   "cell_type": "markdown",
   "metadata": {},
   "source": [
    "##### 3. Define the objective function"
   ]
  },
  {
   "cell_type": "code",
   "execution_count": 13,
   "metadata": {},
   "outputs": [],
   "source": [
    "prob += 0.50*x1 + 0.20*x2 + 0.30*x3 + 0.80*x4, \"objective\""
   ]
  },
  {
   "cell_type": "markdown",
   "metadata": {},
   "source": [
    "##### 4. Define the constraints"
   ]
  },
  {
   "cell_type": "code",
   "execution_count": 14,
   "metadata": {},
   "outputs": [],
   "source": [
    "prob += 400*x1 + 200*x2 + 150*x3 + 500*x4 >= 500, \"1st constraint\"\n",
    "prob += 3*x1 + 2*x2 >= 6, \"2st constraint\"\n",
    "prob += 2*x1 + 2*x2 + 4*x3 + 4*x4 >= 10, \"3st constraint\"\n",
    "prob += 2*x1 + 4*x2 + 1*x3 + 5*x4 >= 8, \"4st constraint\"\n"
   ]
  },
  {
   "cell_type": "markdown",
   "metadata": {},
   "source": [
    "##### 5. Solve the Problem"
   ]
  },
  {
   "cell_type": "code",
   "execution_count": 15,
   "metadata": {},
   "outputs": [
    {
     "name": "stdout",
     "output_type": "stream",
     "text": [
      "Status: Optimal\n",
      "x1 = 0.0\n",
      "x2 = 3.0\n",
      "x3 = 1.0\n",
      "x4 = 0.0\n",
      "Objective (z) = 0.9000000000000001\n"
     ]
    }
   ],
   "source": [
    "prob.solve()\n",
    "\n",
    "# Print the results\n",
    "print(f\"Status: {LpStatus[prob.status]}\")\n",
    "print(f\"x1 = {value(x1)}\")\n",
    "print(f\"x2 = {value(x2)}\")\n",
    "print(f\"x3 = {value(x3)}\")\n",
    "print(f\"x4 = {value(x4)}\")\n",
    "print(f\"Objective (z) = {value(prob.objective)}\")"
   ]
  }
 ],
 "metadata": {
  "kernelspec": {
   "display_name": "Python 3",
   "language": "python",
   "name": "python3"
  },
  "language_info": {
   "codemirror_mode": {
    "name": "ipython",
    "version": 3
   },
   "file_extension": ".py",
   "mimetype": "text/x-python",
   "name": "python",
   "nbconvert_exporter": "python",
   "pygments_lexer": "ipython3",
   "version": "3.12.1"
  }
 },
 "nbformat": 4,
 "nbformat_minor": 2
}
